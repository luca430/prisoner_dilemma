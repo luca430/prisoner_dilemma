{
 "cells": [
  {
   "cell_type": "markdown",
   "metadata": {},
   "source": [
    "# Iterative Prisoner's Dilemma\n",
    "\n",
    "\n",
    "### Description\n",
    "\n",
    "The [Prisoner's Dilemma](https://en.wikipedia.org/wiki/Prisoner%27s_dilemma) (PD) is a classical game analyzed in game theory, which is widely used to (attempt to) model social/economical interaction. It's a \"dilemma\" as, if exploited to explain the emergence of altruism in human or in general animal society, it fails badly at a first glance.\n",
    "\n",
    "The classical situation-representation of the PD is that of two prisoners whose conviction depends on their mutual cooperation. It is easier understood though if illustrated in terms of a trade-off game (closed bag exachange):\n",
    "\n",
    "*Two people meet and exchange closed bags, with the understanding that one of them contains money, and the other contains a purchase. Either player can choose to honor the deal by putting into his or her bag what he or she agreed, or he or she can defect by handing over an empty bag.*\n",
    "\n",
    "It is obvious that for both players the winning strategy is to NOT cooperate.\n",
    "\n",
    "Things changes when the interaction between the two individuals is iterated, in that case a more altruist attitude (strategy) is expected to emerge. The goal of this project is to test this hypothesis.\n",
    "\n",
    "Mathematically the PD can be expressed with very basic linear algebra. The key component is the **Payoff matrix** $M$, which quantify the reward each player gets depending on whether she cooperated or not (defect):\n",
    "\n",
    "$$\n",
    "M = \n",
    "\\begin{pmatrix} \n",
    "R & S \\\\\n",
    "T & P \n",
    "\\end{pmatrix}\n",
    "$$\n",
    "\n",
    "with $T,R,S,P$ integers that satisfy the following conditions:\n",
    "\n",
    "$$\n",
    "T>R>P>S; \\quad 2R > T+S\n",
    "$$\n",
    "\n",
    "for example $T=3$, $R=2$, $P=1$ and $S=0$, or  $T=5$, $R=3$, $P=2$, $S=0$. Each player choice (move) can be represented by one of the two axis in ${\\rm I\\!R}^2$, i.e. $u_C=\\begin{pmatrix} 1 \\\\ 0 \\end{pmatrix}$ or $u_D=\\begin{pmatrix} 0 \\\\ 1 \\end{pmatrix}$, where the first coordinate stands for *Cooperate* and the second for *Defect*. Being $u_1$ and $u_2$ their rewards $r_1$ and $r_2$ can be computed then as:\n",
    "\n",
    "$$\n",
    "r_1 = u_1^T M u_2\n",
    "\\quad\n",
    "\\quad\n",
    "r_2 = u_2^T M u_1\n",
    "$$\n",
    "\n",
    "In an Iterative Prisoner's Dilemma (IPD), two players play prisoner's dilemma more than once in succession and they remember previous actions of their opponent and change their strategy accordingly. The winning strategy is the one which yields to a larger reward at the end of the IPD.\n",
    "\n",
    "The strategy can be represented as a function which outputs either $u_C$ or $u_D$. Such function can depend on the opponent's history of moves, her on history of moves, on the number of moves played till that moment and so on, but it can only be based on a probability density function. Possible strategies are:\n",
    "\n",
    "* **Nice guy**: always cooperate (the function's output is always $u_D$)\n",
    "* **Bad guy**: always defect \n",
    "* **Mainly nice**: randomly defect $k\\%$ of the times and cooperate $100-k\\%$, $k<50$\n",
    "* **Mainly bad**: randomly defect $k\\%$ of the times and cooperate $100-k\\%$, $k>50$\n",
    "* **tit-for-tat**: start by cooperating, then repeat what the opponent has done in the previous move \n",
    "\n",
    "Many more and much more complex strategies can be implemented. The strategy can even change during the IPD.\n",
    "\n",
    "\n",
    "### Assignments\n",
    "\n",
    "* Implement a simple IPD between two players implementing two given strategies. Study the evolution along the tournament confronting different strategies; study the overall outcome in the different configurations. \n",
    "* Implement a multiple players IPD (MPIPD) where several strategies play against each other in a roud-robin scheme\n",
    "* Iterate what done in the previous task (repeated MPIPD, rMPIPD)  by increasing the population implementing a given strategy depending on the results that strategy achieved in the previous iteration\n",
    "* (*difficult*) Implement a rMPIPD where strategies are allowed to mutate. The goal is to simulate the effect of genetic mutations and the effect of natura selection. A parameter (gene) should encode the attidue of an individual to cooperate, such gene can mutate randomly and the corresponding phenotype should compete in the MPIPD such that the best-fitted is determined.  \n"
   ]
  },
  {
   "cell_type": "code",
   "execution_count": 1,
   "metadata": {},
   "outputs": [],
   "source": [
    "import numpy as np\n",
    "import numpy.random as npr\n",
    "import pandas as pd\n",
    "from IPython.display import display\n",
    "import it_pris_dil_func as pris_dil\n",
    "import graph_func as grf"
   ]
  },
  {
   "cell_type": "code",
   "execution_count": null,
   "metadata": {
    "scrolled": false
   },
   "outputs": [],
   "source": [
    "#Point 1)\n",
    "\n",
    "s = ['nice','bad','m_nice','m_bad','tit_tat',\n",
    "    'random','grim','f_tit_tat','sus_tit_tat',\n",
    "    'pavlov','reactive_nice','reactive_bad',\n",
    "    'hard_joss','soft_joss']\n",
    "\n",
    "#s = ['nice','bad','m_nice','m_bad','tit_tat']\n",
    "\n",
    "result = np.zeros((len(s),len(s)))\n",
    "for i in range(len(s)):\n",
    "    for j in range(i,len(s)):\n",
    "        p1, p2 = pris_dil.fight(s[i],s[j])\n",
    "        result[i,j] = p1\n",
    "        result[j,i] = p2\n",
    "\n",
    "df = pd.DataFrame(result,dtype=int,columns=s,index=s)\n",
    "\n",
    "#Rappresentazione risultati\n",
    "def colorcell(x):\n",
    "    data = x.copy()\n",
    "    data.loc[:,:] = ''\n",
    "    for i in range(len(s)):\n",
    "        for j in range(len(s)):\n",
    "            if result[i,j] < result[j,i]: data.iloc[i,j] = 'color : red'\n",
    "            elif result[i,j] > result[j,i]: data.iloc[i,j] = 'color : green'\n",
    "            else: data.iloc[i,j] = 'color : gray'\n",
    "    return data\n",
    "\n",
    "'''sum = np.sum(result, axis=1)\n",
    "df['result'] = sum\n",
    "df = df.astype({'result': int})'''\n",
    "df = df.style.apply(colorcell,axis=None)\n",
    "\n",
    "display(df)\n"
   ]
  },
  {
   "cell_type": "code",
   "execution_count": null,
   "metadata": {
    "scrolled": false
   },
   "outputs": [],
   "source": [
    "res1, res2 = pris_dil.fight('m_bad','tit_tat',N=50,graph=True)#,all_outcome=True)"
   ]
  },
  {
   "cell_type": "code",
   "execution_count": null,
   "metadata": {},
   "outputs": [],
   "source": [
    "grf.fight_grid(p1,p2,range=[2,30])"
   ]
  },
  {
   "cell_type": "code",
   "execution_count": null,
   "metadata": {},
   "outputs": [],
   "source": [
    "#Point 2)\n",
    "'''\n",
    "s = ['nice','bad','m_nice','m_bad','tit_tat',\n",
    "    'random','grim','f_tit_tat','sus_tit_tat',\n",
    "    'pavlov','reactive_nice','reactive_bad',\n",
    "    'hard_joss','soft_joss']\n",
    "\n",
    "s = ['nice','m_nice','reactive_nice','soft_joss',\n",
    "    'bad','m_bad','reactive_bad','hard_joss',\n",
    "    'tit_tat','f_tit_tat','sus_tit_tat','grim']\n",
    "s_good = ['nice','m_nice','reactive_nice','soft_joss']\n",
    "s_bad = ['bad','m_bad','reactive_bad','hard_joss']\n",
    "s_tit_tat = ['tit_tat','f_tit_tat','sus_tit_tat']'''\n",
    "s = ['nice','bad','m_nice','m_bad','tit_tat',\n",
    "    'random','grim','f_tit_tat','sus_tit_tat',\n",
    "    'pavlov','reactive_nice','reactive_bad',\n",
    "    'hard_joss','soft_joss']\n",
    "\n",
    "h = pris_dil.h_build([15,15,15,15,15,15,15,15,15,15,15,15,15,15])\n",
    "\n",
    "unique, n_strategies = np.unique(h,return_counts=True)\n",
    "\n",
    "for a,b in zip(unique,n_strategies): print(s[a],b)\n",
    "\n",
    "unique, media, n_strat = pris_dil.round_robin(h,s,ord=True)\n",
    "\n",
    "s_unique = [s[val] for val in unique]\n",
    "\n",
    "grf.graph_bar(media,unique,n_strat,s)\n"
   ]
  },
  {
   "cell_type": "code",
   "execution_count": null,
   "metadata": {},
   "outputs": [],
   "source": [
    "#Point 3)\n",
    "\n",
    "s = ['nice','bad','m_nice','m_bad','tit_tat',\n",
    "    'random','grim','f_tit_tat','sus_tit_tat',\n",
    "    'pavlov','reactive_nice','reactive_bad',\n",
    "    'hard_joss','soft_joss']\n",
    "\n",
    " #s = ['nice','bad','m_nice','m_bad','tit_tat']\n",
    "#s = ['reactive_nice','reactive_bad','pavlov','grim','hard_joss','soft_joss']\n",
    "\n",
    "\n",
    "s=['bad','m_bad','tit_tat'] \n",
    "h = npr.randint(0,len(s),size=30)\n",
    "#h = pris_dil.h_build([10,10,10,10,10,10,10,10,10,10,10,10,10,10])\n",
    "\n",
    "unique, n_strategies = np.unique(h,return_counts=True)\n",
    "\n",
    "for a,b in zip(unique,n_strategies): print(s[a],b)\n",
    "\n",
    "iterations = 20\n",
    "n_ma3, val_ma3, iterations = pris_dil.tournament(h,'update_5',s,it=iterations,n_change=2)"
   ]
  },
  {
   "cell_type": "code",
   "execution_count": null,
   "metadata": {},
   "outputs": [],
   "source": [
    "#grf.graph_average(h,val_ma3,s,iterations)\n",
    "grf.graph_population(n_ma3,iterations,s)"
   ]
  },
  {
   "cell_type": "code",
   "execution_count": null,
   "metadata": {
    "scrolled": false
   },
   "outputs": [],
   "source": [
    "grf.gif(s,n_ma3,'population_3')"
   ]
  },
  {
   "cell_type": "code",
   "execution_count": null,
   "metadata": {},
   "outputs": [
    {
     "name": "stdout",
     "output_type": "stream",
     "text": [
      "hard_joss 16\n",
      "hard_joss 1\n",
      "grim 16\n",
      "pavlov 17\n",
      "reactive_nice 17\n",
      "reactive_bad 17\n",
      "soft_joss 16\n"
     ]
    }
   ],
   "source": [
    "#Point 4)\n",
    "\n",
    "'''s = ['nice','bad','m_nice','m_bad','tit_tat',\n",
    "    'random','grim','f_tit_tat','sus_tit_tat',\n",
    "    'pavlov','reactive_nice','reactive_bad',\n",
    "    'hard_joss','soft_joss']'''\n",
    "s=['hard_joss','grim','pavlov','reactive_nice','reactive_bad','soft_joss']\n",
    "    \n",
    "start_s = len(s)\n",
    "#n_players = 14\n",
    "#h = np.zeros((2,np.sum(numbers)))\n",
    "#h[0] = npr.randint(0,len(s),size=n_players)\n",
    "h = pris_dil.h_build([17,16,17,17,17,16],mutation = True)\n",
    "h[0:7,0] = 0.4\n",
    "unique, n_strategies = np.unique(h[0],return_counts=True)\n",
    "\n",
    "for a,b in zip(unique,n_strategies): print(s[int(a)],b)\n",
    "\n",
    "iterations = 100\n",
    "n_ma4, val_ma4, iteration = pris_dil.tournament(h,'update_5',s,it=iterations,mutation_prob=0.05, n_change = 2)"
   ]
  },
  {
   "cell_type": "code",
   "execution_count": null,
   "metadata": {},
   "outputs": [],
   "source": [
    "grf.graph_average(h,val_ma4,s,iteration,start_s=start_s)\n",
    "grf.graph_population(n_ma4,iteration,s,start_s=start_s)"
   ]
  },
  {
   "cell_type": "code",
   "execution_count": null,
   "metadata": {},
   "outputs": [],
   "source": []
  },
  {
   "cell_type": "code",
   "execution_count": null,
   "metadata": {},
   "outputs": [],
   "source": []
  }
 ],
 "metadata": {
  "kernelspec": {
   "display_name": "Python 3 (ipykernel)",
   "language": "python",
   "name": "python3"
  },
  "language_info": {
   "codemirror_mode": {
    "name": "ipython",
    "version": 3
   },
   "file_extension": ".py",
   "mimetype": "text/x-python",
   "name": "python",
   "nbconvert_exporter": "python",
   "pygments_lexer": "ipython3",
   "version": "3.8.8"
  }
 },
 "nbformat": 4,
 "nbformat_minor": 2
}
